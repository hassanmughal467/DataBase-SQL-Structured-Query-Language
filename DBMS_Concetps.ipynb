{
 "cells": [
  {
   "cell_type": "markdown",
   "metadata": {},
   "source": [
    "###### Introduction to DBMS & SQL\n",
    "- 1 Normalization Subsets of Normalization\n",
    "- 2  DDL\n",
    "- 3 DML\n",
    "- 4  DCL\n",
    "- 5 TCL\n",
    "- 6 SQL Operators\n",
    "- 7 SQL Functions\n",
    "- 8 SQL Joins\n",
    "- 9  Lab Session"
   ]
  },
  {
   "cell_type": "markdown",
   "metadata": {},
   "source": [
    "## Types of Data Models"
   ]
  },
  {
   "cell_type": "markdown",
   "metadata": {},
   "source": [
    "#### Record Base Logical Model\n",
    "- Hierarchical Model\n",
    "- Network Data Model\n",
    "- Relational Data Model\n",
    "\n",
    "#### Object Base Logical Model\n",
    "\n",
    "- Entity Relationship Model\n",
    "\n",
    "\n",
    "agr hamien 2 entity k beach me relation janna ha toh hum object bnate hain exam mack and jeck k beac me"
   ]
  },
  {
   "cell_type": "markdown",
   "metadata": {},
   "source": [
    "# DBMS Operation"
   ]
  },
  {
   "cell_type": "markdown",
   "metadata": {},
   "source": [
    "- Adding New Files(Tables)\n",
    "- Inserting Data\n",
    "- Retrievig Data\n",
    "- Updating Data\n",
    "- Removing files\n",
    "- Removing Data"
   ]
  },
  {
   "cell_type": "markdown",
   "metadata": {},
   "source": [
    "# Advantages Of DBMS"
   ]
  },
  {
   "cell_type": "markdown",
   "metadata": {},
   "source": [
    "- Sharing of Data Across Applications\n",
    "- Enhanced Security Mechanism\n",
    "- Enforce Integrity constraint\n",
    "- Better Transaction support\n",
    "- Backup and Recovery System"
   ]
  },
  {
   "cell_type": "markdown",
   "metadata": {},
   "source": [
    "# Features Of RDBMS"
   ]
  },
  {
   "cell_type": "markdown",
   "metadata": {},
   "source": [
    "- Every piece of information stored in the form of tables\n",
    "- Has primary key unique identification of rows\n",
    "- Has foreign keys to ensure data integrity\n",
    "- Provide Sql for Data access\n",
    "- Uses Indexex for faster data retrieval\n",
    "- Give Access privileges to ensure data security"
   ]
  },
  {
   "cell_type": "markdown",
   "metadata": {},
   "source": [
    "# Normalization"
   ]
  },
  {
   "cell_type": "markdown",
   "metadata": {},
   "source": [
    "- Decompose larger,complex tables into smaller and simple onces.\n",
    "- Moves from lower normal forms to higher normal forms.\n",
    "####  Need for Normalization\n",
    "- In order to produce good database design\n",
    "- To ensure all database operations to be efficiently performed\n",
    "- Avoid any expensive DBMS operation(time and space)\n",
    "- Avoid any dublication of information"
   ]
  },
  {
   "cell_type": "markdown",
   "metadata": {},
   "source": [
    "# Functional Dependency"
   ]
  },
  {
   "cell_type": "markdown",
   "metadata": {},
   "source": [
    "- consider a relation\n",
    "   \n",
    "   Result( student#,Course#,CourseName#,Marks#,Garde#)\n",
    "      Student# and Course# togther defines exactly one value of marks.Students#,Marks,Course#\n",
    "      Student# and Course# determines marks or marks is functionaly dependent on course# and student#\n",
    "-  other functional dependencies in relation\n",
    "    \n",
    "    course#-courseName\n",
    "    \n",
    "    marks#-grade\n",
    "    \n",
    "#### Two types of functional dependencies"
   ]
  },
  {
   "cell_type": "markdown",
   "metadata": {},
   "source": [
    "Partial Functional Dependencies\n",
    "\n",
    "Attribute Q partially dependent on attribute p,if and only if it is dependent on the subset of attribute p\n",
    "\n",
    "\n",
    "Transitive Functional Dependencies\n",
    "\n",
    "X-->Y  Y-->Z  X-->Z\n",
    "\n",
    "Student#-->Course#-->Marks-->Grade"
   ]
  },
  {
   "cell_type": "markdown",
   "metadata": {},
   "source": [
    "# Types Of Normalization"
   ]
  },
  {
   "cell_type": "markdown",
   "metadata": {},
   "source": [
    "##### 1NF\n",
    "A relation Schema is said to be 1NF,if and only if:\n",
    "- All attribute in a relation are atomic(indivisible value)\n",
    "- There are no repeating elements or group of elements.\n",
    "##### 2NF\n",
    "A relation Schema is said to be 1NF,if and only if:\n",
    "- It is first Normal Form\n",
    "- No partial dependences exists between non key attributes and key atributes \n",
    "##### 3NF\n",
    "A relation Schema is said to be 3NF,if and only if:\n",
    "- It is Seconf Normal Form\n",
    "- Nor transitive dependency exists between non key attributes and key atributes thorugh another non key attributes"
   ]
  },
  {
   "cell_type": "markdown",
   "metadata": {},
   "source": [
    "# SQL Constraints"
   ]
  },
  {
   "cell_type": "markdown",
   "metadata": {},
   "source": [
    "- Not Null\n",
    "- Unique\n",
    "- Defualt \n",
    "- Primary\n",
    "- check\n",
    "- index"
   ]
  },
  {
   "cell_type": "markdown",
   "metadata": {},
   "source": [
    "# Subset of Sql"
   ]
  },
  {
   "cell_type": "markdown",
   "metadata": {},
   "source": [
    "#### SQL Command Groups\n",
    "- DDL\n",
    "\n",
    "Data definition langauge (creation of objects)\n",
    "\n",
    "Create,Alter,Drop,Truncate,Rename\n",
    "\n",
    "- DML\n",
    "\n",
    "Data Manipulation Language(manipulation of data)\n",
    "\n",
    "Insert,Update delete\n",
    "\n",
    "- DCL\n",
    "\n",
    "Data Control Language(assignments and removal of permissions)\n",
    "\n",
    "Grant: gives acccess privileges to database\n",
    "Revoke: withdraw access privileges given with the grand command\n",
    "\n",
    "- TCL\n",
    "\n",
    "Transaction Control Language(saving and restoring changes to a database)\n",
    "\n",
    "Commit,Rollback,savepoint"
   ]
  },
  {
   "cell_type": "markdown",
   "metadata": {},
   "source": [
    "create table employees(empid int not null,emp_name varchar(20),emp_status varchar(20),primary key(empid));\n",
    "\n",
    "Insert into employees (empid,emp_name,emp_status,Contact) values (2,'Owais','married',03333276863);\n",
    "\n",
    "update empolyees set emp_name='muhammad hassan' where empid=1;\n",
    "\n",
    "delete from employees where empid=1;"
   ]
  },
  {
   "cell_type": "markdown",
   "metadata": {},
   "source": [
    "#### SQL Operators"
   ]
  },
  {
   "cell_type": "markdown",
   "metadata": {},
   "source": [
    "###### WHERE CLAUSE\n",
    "select * from employees where emp_status='single';\n",
    "###### Logical operators\n",
    " And-->True if both cond satisfy (n>10 and n<100) \n",
    " \n",
    " OR--> True if 1 cond true\n",
    " \n",
    " NoT-->true (5<2)\n",
    "###### SQL Operators Special\n",
    "- Between \n",
    "\n",
    "checks an attributes value within a range\n",
    "\n",
    "- Like \n",
    "\n",
    "checks an attributes value matches given string pattern\n",
    "\n",
    "- Is Null\n",
    "\n",
    "checks an attributes value is Null\n",
    "\n",
    "- In\n",
    "\n",
    "checks an attributes value matches any value within a value list\n",
    "\n",
    "- Distinct\n",
    "\n",
    "limits values to unique values"
   ]
  },
  {
   "cell_type": "markdown",
   "metadata": {},
   "source": [
    "# Sql Aggregations\n",
    "\n",
    "- Avg()\n",
    "- Count()\n",
    "- Max()\n",
    "- Min()\n",
    "- Sum()\n",
    "- Select avg(Salary) from employees;\n",
    "- Select min(Salary) from employees;\n",
    "- Select max(Salary) from employees;\n",
    "- Select sum(Salary) from employees;\n",
    "- Select Count(*) from employees;  count rows\n",
    "\n",
    "\n",
    "#### Group by Cluase\n",
    "\n"
   ]
  },
  {
   "cell_type": "code",
   "execution_count": null,
   "metadata": {},
   "outputs": [],
   "source": []
  }
 ],
 "metadata": {
  "kernelspec": {
   "display_name": "Python 3",
   "language": "python",
   "name": "python3"
  },
  "language_info": {
   "codemirror_mode": {
    "name": "ipython",
    "version": 3
   },
   "file_extension": ".py",
   "mimetype": "text/x-python",
   "name": "python",
   "nbconvert_exporter": "python",
   "pygments_lexer": "ipython3",
   "version": "3.7.4"
  }
 },
 "nbformat": 4,
 "nbformat_minor": 2
}
